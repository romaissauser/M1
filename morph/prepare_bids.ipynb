{
 "cells": [
  {
   "cell_type": "code",
   "execution_count": 8,
   "id": "7c8e5773",
   "metadata": {},
   "outputs": [],
   "source": [
    "from bids_utils import DataBaseReader"
   ]
  },
  {
   "cell_type": "code",
   "execution_count": 9,
   "id": "abd26499",
   "metadata": {},
   "outputs": [],
   "source": [
    "bids_converters = {'anat' : ['anat', 'T1w', RECtoNIFTIConverter],\n",
    "                   'fmri' : ['func', 'task-rest_bold', RECtoNIFTIConverter]}"
   ]
  },
  {
   "cell_type": "code",
   "execution_count": 11,
   "id": "abdb49ce",
   "metadata": {},
   "outputs": [
    {
     "ename": "FileNotFoundError",
     "evalue": "[Errno 2] No such file or directory: '/media/cure/Secondary/pierre/softwares/M1/morph/database.csv'",
     "output_type": "error",
     "traceback": [
      "\u001b[0;31m---------------------------------------------------------------------------\u001b[0m",
      "\u001b[0;31mFileNotFoundError\u001b[0m                         Traceback (most recent call last)",
      "Input \u001b[0;32mIn [11]\u001b[0m, in \u001b[0;36m<cell line: 1>\u001b[0;34m()\u001b[0m\n\u001b[0;32m----> 1\u001b[0m database \u001b[38;5;241m=\u001b[39m \u001b[43mDataBaseReader\u001b[49m\u001b[43m(\u001b[49m\u001b[38;5;124;43m'\u001b[39;49m\u001b[38;5;124;43mdatabase.csv\u001b[39;49m\u001b[38;5;124;43m'\u001b[39;49m\u001b[43m,\u001b[49m\u001b[43m \u001b[49m\u001b[43mbids_converters\u001b[49m\u001b[43m)\u001b[49m\n",
      "File \u001b[0;32m/media/cure/Secondary/pierre/softwares/M1/morph/bids_utils.py:139\u001b[0m, in \u001b[0;36m__init__\u001b[0;34m(self, database, converters)\u001b[0m\n\u001b[1;32m    136\u001b[0m \u001b[38;5;28mself\u001b[39m\u001b[38;5;241m.\u001b[39mconverters \u001b[38;5;241m=\u001b[39m converters\n\u001b[1;32m    138\u001b[0m csvfile \u001b[38;5;241m=\u001b[39m \u001b[38;5;28mopen\u001b[39m(os\u001b[38;5;241m.\u001b[39mpath\u001b[38;5;241m.\u001b[39mabspath(\u001b[38;5;28mself\u001b[39m\u001b[38;5;241m.\u001b[39mdatabase), newline\u001b[38;5;241m=\u001b[39m\u001b[38;5;124m'\u001b[39m\u001b[38;5;124m'\u001b[39m)\n\u001b[0;32m--> 139\u001b[0m reader \u001b[38;5;241m=\u001b[39m csv\u001b[38;5;241m.\u001b[39mDictReader(csvfile)\n\u001b[1;32m    140\u001b[0m \u001b[38;5;28mself\u001b[39m\u001b[38;5;241m.\u001b[39mdialect \u001b[38;5;241m=\u001b[39m csv\u001b[38;5;241m.\u001b[39mexcel\n\u001b[1;32m    141\u001b[0m \u001b[38;5;28mself\u001b[39m\u001b[38;5;241m.\u001b[39mdialect\u001b[38;5;241m.\u001b[39mdelimiter \u001b[38;5;241m=\u001b[39m \u001b[38;5;124m'\u001b[39m\u001b[38;5;130;01m\\t\u001b[39;00m\u001b[38;5;124m'\u001b[39m\n",
      "\u001b[0;31mFileNotFoundError\u001b[0m: [Errno 2] No such file or directory: '/media/cure/Secondary/pierre/softwares/M1/morph/database.csv'"
     ]
    }
   ],
   "source": [
    "database = DataBaseReader('database.csv', bids_converters)"
   ]
  },
  {
   "cell_type": "code",
   "execution_count": 16,
   "id": "911012da",
   "metadata": {},
   "outputs": [
    {
     "name": "stdout",
     "output_type": "stream",
     "text": [
      "bids_utils.py  \u001b[0m\u001b[01;34mlabels\u001b[0m/                 prepare_bids.ipynb  \u001b[01;34mresults\u001b[0m/\r\n",
      "\u001b[01;34mdata\u001b[0m/          prepare_behavior.ipynb  \u001b[01;34m__pycache__\u001b[0m/\r\n"
     ]
    }
   ],
   "source": [
    "ls"
   ]
  }
 ],
 "metadata": {
  "kernelspec": {
   "display_name": "Python 3",
   "language": "python",
   "name": "python3"
  },
  "language_info": {
   "codemirror_mode": {
    "name": "ipython",
    "version": 3
   },
   "file_extension": ".py",
   "mimetype": "text/x-python",
   "name": "python",
   "nbconvert_exporter": "python",
   "pygments_lexer": "ipython3",
   "version": "3.9.12"
  }
 },
 "nbformat": 4,
 "nbformat_minor": 5
}
