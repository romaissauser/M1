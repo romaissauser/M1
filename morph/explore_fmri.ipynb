{
 "cells": [
  {
   "cell_type": "code",
   "execution_count": 18,
   "id": "312b8ce1",
   "metadata": {},
   "outputs": [
    {
     "name": "stdout",
     "output_type": "stream",
     "text": [
      "The autoreload extension is already loaded. To reload it, use:\n",
      "  %reload_ext autoreload\n"
     ]
    }
   ],
   "source": [
    "%load_ext autoreload\n",
    "%autoreload 2"
   ]
  },
  {
   "cell_type": "code",
   "execution_count": 19,
   "id": "56c72ab2",
   "metadata": {},
   "outputs": [],
   "source": [
    "import nibabel\n",
    "import os\n",
    "from pathlib import Path\n",
    "import numpy as np\n",
    "import pandas as pd"
   ]
  },
  {
   "cell_type": "code",
   "execution_count": 20,
   "id": "1fb1477c",
   "metadata": {},
   "outputs": [],
   "source": [
    "from mri import MRI"
   ]
  },
  {
   "cell_type": "code",
   "execution_count": 21,
   "id": "8383e4a8",
   "metadata": {},
   "outputs": [],
   "source": [
    "from bids_utils import BIDSDatabase\n",
    "database = BIDSDatabase('bids/', 'results/')"
   ]
  },
  {
   "cell_type": "code",
   "execution_count": 22,
   "id": "c103d02c",
   "metadata": {},
   "outputs": [],
   "source": [
    "res = database.get_all_func()"
   ]
  },
  {
   "cell_type": "code",
   "execution_count": 23,
   "id": "1cac6815",
   "metadata": {},
   "outputs": [],
   "source": [
    "import pandas\n",
    "import nilearn\n",
    "from nilearn.image import index_img, concat_imgs"
   ]
  },
  {
   "cell_type": "code",
   "execution_count": 384,
   "id": "f7776706",
   "metadata": {},
   "outputs": [],
   "source": [
    "repetition_time = 2.39951\n",
    "\n",
    "def get_svc_data(subjects, runs=range(0,4), mode='stim_vs_all'):\n",
    "\n",
    "    global_data = {}\n",
    "    \n",
    "    for group, subject in enumerate(subjects):\n",
    "\n",
    "        labels = pandas.read_csv(f'labels/labels_{subject}.csv')\n",
    "        data = {}\n",
    "\n",
    "        for run in runs:\n",
    "            mask = labels['run'] == run + 1\n",
    "            run_labels = labels[mask]\n",
    "\n",
    "            times = np.around((run_labels['run time'].values)/ (1000*repetition_time)).astype(int)\n",
    "            if mode == 'stim_vs_all':\n",
    "                all_times = np.arange(res['%02d' %subject][run].shape[3])\n",
    "                responses = np.in1d(all_times, times).astype(int)\n",
    "            elif mode == 'human_responses':\n",
    "                all_times = times\n",
    "                responses = run_labels['response'].values\n",
    "\n",
    "            data[run] = {'nii' : index_img(res['%02d' %subject][run].preprocessed, all_times), \n",
    "                         'labels' : responses,\n",
    "                         'groups' : group * np.ones(len(responses))}\n",
    "        \n",
    "        run_volumes = concat_imgs([data[i]['nii'] for i in runs])\n",
    "        run_labels = np.concatenate([data[i]['labels'] for i in runs])\n",
    "        groups = np.concatenate([data[i]['groups'] for i in runs])\n",
    "        mask = res['%02d' %subject][0].brain_mask\n",
    "                    \n",
    "        if not 'nii' in global_data:\n",
    "            global_data = {'nii' : run_volumes, \n",
    "                           'labels' : run_labels, \n",
    "                           'groups' : groups, \n",
    "                           'mask' : mask}\n",
    "\n",
    "        else:\n",
    "            global_data['nii'] = concat_imgs([global_data['nii'], run_volumes])\n",
    "            global_data['labels'] = np.concatenate([global_data['labels'], run_labels])\n",
    "            global_data['groups'] = np.concatenate([global_data['groups'], groups])\n",
    "            \n",
    "    return global_data"
   ]
  },
  {
   "cell_type": "code",
   "execution_count": 387,
   "id": "4702948d",
   "metadata": {},
   "outputs": [],
   "source": [
    "global_data = get_svc_data(range(1,2), mode='stim_vs_all')"
   ]
  },
  {
   "cell_type": "code",
   "execution_count": 390,
   "id": "d4b1dd62",
   "metadata": {},
   "outputs": [
    {
     "name": "stderr",
     "output_type": "stream",
     "text": [
      "/home/cure/anaconda3/lib/python3.9/site-packages/sklearn/svm/_base.py:1206: ConvergenceWarning: Liblinear failed to converge, increase the number of iterations.\n",
      "  warnings.warn(\n",
      "/home/cure/anaconda3/lib/python3.9/site-packages/sklearn/svm/_base.py:1206: ConvergenceWarning: Liblinear failed to converge, increase the number of iterations.\n",
      "  warnings.warn(\n",
      "/home/cure/anaconda3/lib/python3.9/site-packages/sklearn/svm/_base.py:1206: ConvergenceWarning: Liblinear failed to converge, increase the number of iterations.\n",
      "  warnings.warn(\n",
      "/home/cure/anaconda3/lib/python3.9/site-packages/sklearn/svm/_base.py:1206: ConvergenceWarning: Liblinear failed to converge, increase the number of iterations.\n",
      "  warnings.warn(\n",
      "/home/cure/anaconda3/lib/python3.9/site-packages/sklearn/svm/_base.py:1206: ConvergenceWarning: Liblinear failed to converge, increase the number of iterations.\n",
      "  warnings.warn(\n",
      "/home/cure/anaconda3/lib/python3.9/site-packages/sklearn/svm/_base.py:1206: ConvergenceWarning: Liblinear failed to converge, increase the number of iterations.\n",
      "  warnings.warn(\n",
      "/home/cure/anaconda3/lib/python3.9/site-packages/sklearn/svm/_base.py:1206: ConvergenceWarning: Liblinear failed to converge, increase the number of iterations.\n",
      "  warnings.warn(\n",
      "/home/cure/anaconda3/lib/python3.9/site-packages/sklearn/svm/_base.py:1206: ConvergenceWarning: Liblinear failed to converge, increase the number of iterations.\n",
      "  warnings.warn(\n",
      "/home/cure/anaconda3/lib/python3.9/site-packages/sklearn/svm/_base.py:1206: ConvergenceWarning: Liblinear failed to converge, increase the number of iterations.\n",
      "  warnings.warn(\n",
      "/home/cure/anaconda3/lib/python3.9/site-packages/sklearn/svm/_base.py:1206: ConvergenceWarning: Liblinear failed to converge, increase the number of iterations.\n",
      "  warnings.warn(\n",
      "/home/cure/anaconda3/lib/python3.9/site-packages/sklearn/svm/_base.py:1206: ConvergenceWarning: Liblinear failed to converge, increase the number of iterations.\n",
      "  warnings.warn(\n",
      "/home/cure/anaconda3/lib/python3.9/site-packages/sklearn/svm/_base.py:1206: ConvergenceWarning: Liblinear failed to converge, increase the number of iterations.\n",
      "  warnings.warn(\n",
      "/home/cure/anaconda3/lib/python3.9/site-packages/sklearn/svm/_base.py:1206: ConvergenceWarning: Liblinear failed to converge, increase the number of iterations.\n",
      "  warnings.warn(\n",
      "/home/cure/anaconda3/lib/python3.9/site-packages/sklearn/svm/_base.py:1206: ConvergenceWarning: Liblinear failed to converge, increase the number of iterations.\n",
      "  warnings.warn(\n",
      "/home/cure/anaconda3/lib/python3.9/site-packages/sklearn/svm/_base.py:1206: ConvergenceWarning: Liblinear failed to converge, increase the number of iterations.\n",
      "  warnings.warn(\n",
      "/home/cure/anaconda3/lib/python3.9/site-packages/sklearn/svm/_base.py:1206: ConvergenceWarning: Liblinear failed to converge, increase the number of iterations.\n",
      "  warnings.warn(\n",
      "/home/cure/anaconda3/lib/python3.9/site-packages/sklearn/svm/_base.py:1206: ConvergenceWarning: Liblinear failed to converge, increase the number of iterations.\n",
      "  warnings.warn(\n",
      "/home/cure/anaconda3/lib/python3.9/site-packages/sklearn/svm/_base.py:1206: ConvergenceWarning: Liblinear failed to converge, increase the number of iterations.\n",
      "  warnings.warn(\n",
      "/home/cure/anaconda3/lib/python3.9/site-packages/sklearn/svm/_base.py:1206: ConvergenceWarning: Liblinear failed to converge, increase the number of iterations.\n",
      "  warnings.warn(\n",
      "/home/cure/anaconda3/lib/python3.9/site-packages/sklearn/svm/_base.py:1206: ConvergenceWarning: Liblinear failed to converge, increase the number of iterations.\n",
      "  warnings.warn(\n",
      "/home/cure/anaconda3/lib/python3.9/site-packages/sklearn/svm/_base.py:1206: ConvergenceWarning: Liblinear failed to converge, increase the number of iterations.\n",
      "  warnings.warn(\n",
      "/home/cure/anaconda3/lib/python3.9/site-packages/sklearn/svm/_base.py:1206: ConvergenceWarning: Liblinear failed to converge, increase the number of iterations.\n",
      "  warnings.warn(\n",
      "/home/cure/anaconda3/lib/python3.9/site-packages/sklearn/svm/_base.py:1206: ConvergenceWarning: Liblinear failed to converge, increase the number of iterations.\n",
      "  warnings.warn(\n",
      "/home/cure/anaconda3/lib/python3.9/site-packages/sklearn/svm/_base.py:1206: ConvergenceWarning: Liblinear failed to converge, increase the number of iterations.\n",
      "  warnings.warn(\n",
      "/home/cure/anaconda3/lib/python3.9/site-packages/sklearn/svm/_base.py:1206: ConvergenceWarning: Liblinear failed to converge, increase the number of iterations.\n",
      "  warnings.warn(\n",
      "/home/cure/anaconda3/lib/python3.9/site-packages/sklearn/svm/_base.py:1206: ConvergenceWarning: Liblinear failed to converge, increase the number of iterations.\n",
      "  warnings.warn(\n",
      "/home/cure/anaconda3/lib/python3.9/site-packages/sklearn/svm/_base.py:1206: ConvergenceWarning: Liblinear failed to converge, increase the number of iterations.\n",
      "  warnings.warn(\n",
      "/home/cure/anaconda3/lib/python3.9/site-packages/sklearn/svm/_base.py:1206: ConvergenceWarning: Liblinear failed to converge, increase the number of iterations.\n",
      "  warnings.warn(\n",
      "/home/cure/anaconda3/lib/python3.9/site-packages/sklearn/svm/_base.py:1206: ConvergenceWarning: Liblinear failed to converge, increase the number of iterations.\n",
      "  warnings.warn(\n",
      "/home/cure/anaconda3/lib/python3.9/site-packages/sklearn/svm/_base.py:1206: ConvergenceWarning: Liblinear failed to converge, increase the number of iterations.\n",
      "  warnings.warn(\n"
     ]
    },
    {
     "name": "stdout",
     "output_type": "stream",
     "text": [
      "[0.4864864864864865, 0.40180180180180186, 0.5633633633633633, 0.5021021021021022, 0.5633633633633633, 0.481280193236715, 0.4475308641975309, 0.4901234567901235, 0.5055555555555555, 0.5012345679012346]\n",
      "[0.4864864864864865, 0.40180180180180186, 0.5633633633633633, 0.5021021021021022, 0.5633633633633633, 0.481280193236715, 0.4475308641975309, 0.4901234567901235, 0.5055555555555555, 0.5012345679012346]\n"
     ]
    }
   ],
   "source": [
    "from sklearn.model_selection import LeaveOneGroupOut\n",
    "#cv = LeaveOneGroupOut()\n",
    "\n",
    "from nilearn.decoding import Decoder\n",
    "from sklearn.svm import LinearSVC\n",
    "\n",
    "decoder = Decoder(\n",
    "    estimator='svc',\n",
    "    mask=global_data['mask'],\n",
    "    smoothing_fwhm=6,\n",
    "    standardize=True,\n",
    "    screening_percentile=5,\n",
    "    scoring=\"roc_auc\",\n",
    "    #cv = cv,\n",
    "    n_jobs=-1\n",
    ")\n",
    "    \n",
    "#decoder.fit(global_data['nii'], global_data['labels'], groups=global_data['groups'])\n",
    "decoder.fit(global_data['nii'], global_data['labels'])\n",
    "print(decoder.cv_scores_[0])\n",
    "print(decoder.cv_scores_[1])"
   ]
  },
  {
   "cell_type": "code",
   "execution_count": 127,
   "id": "27d65c96",
   "metadata": {},
   "outputs": [
    {
     "data": {
      "image/png": "[encoded data removed]",
      "text/plain": [
       "<Figure size 525.6x187.2 with 5 Axes>"
      ]
     },
     "metadata": {},
     "output_type": "display_data"
    }
   ],
   "source": [
    "weight_img = decoder.coef_img_[0]\n",
    "from nilearn.plotting import plot_stat_map, show\n",
    "\n",
    "plot_stat_map(weight_img, title=\"SVM weights\")\n",
    "\n",
    "show()"
   ]
  },
  {
   "cell_type": "code",
   "execution_count": 24,
   "id": "067007e4",
   "metadata": {},
   "outputs": [
    {
     "data": {
      "text/plain": [
       "(25,)"
      ]
     },
     "execution_count": 24,
     "metadata": {},
     "output_type": "execute_result"
    }
   ],
   "source": [
    "morph_levels = np.load('morph_levels.npy')\n",
    "morph_levels.shape"
   ]
  },
  {
   "cell_type": "code",
   "execution_count": null,
   "id": "60278021",
   "metadata": {
    "scrolled": true
   },
   "outputs": [
    {
     "name": "stdout",
     "output_type": "stream",
     "text": [
      "Analyzing subject 1...\n",
      "Couples [1. 3. 4. 6. 9.] should be ignored...\n",
      "Morph level is set to 27.391383619530046 for subject 1...\n"
     ]
    }
   ],
   "source": [
    "repetition_time = 2.39951\n",
    "from pathlib import Path\n",
    "import pylab as plt\n",
    "\n",
    "global_data = {}\n",
    "global_map = {}\n",
    "reload_mode = True\n",
    "make_plots = True\n",
    "\n",
    "for subject in range(1, 25):\n",
    "    \n",
    "    print(f\"Analyzing subject {subject}...\")\n",
    "    labels = pandas.read_csv(f'labels/labels_{subject}.csv')\n",
    "    \n",
    "    couples_to_exclude = np.loadtxt(f'labels/exclusion/couples_{subject}.csv')\n",
    "    print(f\"Couples {couples_to_exclude} should be ignored...\")\n",
    "    data = {}\n",
    "\n",
    "    \n",
    "    offset = 0\n",
    "    runs = range(0, 4)\n",
    "    \n",
    "    morph_level = morph_levels[subject]\n",
    "    \n",
    "    if (morph_level < 20) or (morph_level > 80):\n",
    "        print(f\"Morph level is {morph_level} thus the subject {subject} is discarded...\")\n",
    "    else:\n",
    "        print(f\"Morph level is set to {morph_level} for subject {subject}...\")\n",
    "        for run in runs:\n",
    "            mask = labels['run'] == run + 1\n",
    "            run_labels = labels[mask]\n",
    "            \n",
    "            mask = ~np.in1d(run_labels['couple'], couples_to_exclude)\n",
    "            run_labels = run_labels[mask]\n",
    "            \n",
    "            times = (run_labels['run time'].values)\n",
    "            conditions = run_labels['morph level']\n",
    "            idx_times = np.around((run_labels['run time'].values)/ (1000*repetition_time)).astype(int)\n",
    "\n",
    "            try:\n",
    "                nii_data = res['%02d' %subject][run].cleaned\n",
    "            except Exception:\n",
    "                print('Denoising not working!...')\n",
    "                nii_data = res['%02d' %subject][run].preprocessed\n",
    "\n",
    "            data[run] = {'nii' : index_img(nii_data, idx_times), \n",
    "                         'times' : times / 1000 + offset, \n",
    "                         'labels' : conditions}\n",
    "            offset += repetition_time * nii_data.shape[3]\n",
    "\n",
    "        run_volumes = concat_imgs([data[i]['nii'] for i in runs])\n",
    "        run_times = np.concatenate([data[i]['times'] for i in runs])\n",
    "        run_conditions = np.concatenate([data[i]['labels'] for i in runs])\n",
    "\n",
    "        run_labels = np.concatenate([data[i]['labels'] for i in runs])\n",
    "        mask = res['%02d' %subject][0].brain_mask\n",
    "\n",
    "        events = pd.DataFrame(\n",
    "            {'trial_type': [f'morph_{level}' for level in run_conditions], \n",
    "             'onset': run_times, \n",
    "             'duration': 0.5}\n",
    "        )\n",
    "\n",
    "        design_matrices = make_first_level_design_matrix(run_times, events,\n",
    "                                      drift_model='polynomial', drift_order=3)\n",
    "\n",
    "        from nilearn.glm.first_level import make_first_level_design_matrix\n",
    "        if make_plots:\n",
    "            from nilearn.plotting import plot_design_matrix\n",
    "            plot_design_matrix(design_matrices)\n",
    "\n",
    "            dir_path = Path(f'nilearn/{subject}')\n",
    "            if not dir_path.exists():\n",
    "                os.makedirs(dir_path)\n",
    "\n",
    "            plt.savefig(dir_path / f'design_matrix.png')\n",
    "            plt.close()\n",
    "\n",
    "        from nilearn.glm.first_level import FirstLevelModel\n",
    "        fmri_glm = FirstLevelModel(repetition_time, mask_img = mask, smoothing_fwhm=6)\n",
    "        fmri_glm = fmri_glm.fit(run_volumes, design_matrices=design_matrices)\n",
    "\n",
    "        contrast_matrix = np.eye(design_matrices.shape[1])\n",
    "        contrasts = {\n",
    "            column: contrast_matrix[i]\n",
    "            for i, column in enumerate(design_matrices.columns)\n",
    "        }\n",
    "        conditions = events.trial_type.unique()\n",
    "        for condition in conditions:\n",
    "            contrasts[condition] = np.sum(\n",
    "                [\n",
    "                    contrasts[name]\n",
    "                    for name in design_matrices.columns\n",
    "                    if name[: len(condition)] == condition\n",
    "                ],\n",
    "                0,\n",
    "            )\n",
    "\n",
    "        all_morphs = np.arange(5, 105, 10)\n",
    "\n",
    "        contrasts[\"familiar\"] = np.sum(\n",
    "            [\n",
    "                contrasts[f'morph_{level}']\n",
    "                for level in all_morphs[all_morphs > morph_level]],\n",
    "            0\n",
    "        )\n",
    "        contrasts[\"not familiar\"] = np.sum(\n",
    "            [\n",
    "                contrasts[f'morph_{level}']\n",
    "                for level in all_morphs[all_morphs < morph_level]],\n",
    "            0\n",
    "        )\n",
    "\n",
    "        new_contrasts = {\"familiar - not familiar\" : contrasts[\"familiar\"] - contrasts[\"not familiar\"], \n",
    "                        \"familiar\" : contrasts[\"familiar\"],\n",
    "                        \"not familiar\" : contrasts[\"not familiar\"]}\n",
    "        #for morph_level in range(15, 105, 10):\n",
    "        #    new_contrasts[f\"{morph_level} - 5\"] = \\\n",
    "        #    contrasts[f\"morph_{morph_level}\"] - contrasts[f\"morph_5\"]\n",
    "\n",
    "        import matplotlib.pyplot as plt\n",
    "        from nilearn.plotting import plot_stat_map\n",
    "\n",
    "        #fig = plt.figure(figsize=(11, 3))\n",
    "        for index, (contrast_id, contrast_val) in enumerate(new_contrasts.items()):\n",
    "            \n",
    "            z_map = fmri_glm.compute_contrast(\n",
    "                contrast_val, output_type=\"z_score\"\n",
    "            )\n",
    "            if make_plots:\n",
    "                #ax = plt.subplots(1, 1, squeeze=False)\n",
    "                plot_stat_map(\n",
    "                    z_map,\n",
    "                    display_mode=\"z\",\n",
    "                    threshold=1,\n",
    "                    title=contrast_id,\n",
    "                    #axes=ax,\n",
    "                    cut_coords=1,\n",
    "\n",
    "                )\n",
    "                plt.savefig(dir_path / f'{contrast_id}.png')\n",
    "                plt.close()\n",
    "            if contrast_id not in global_map:\n",
    "                global_map[contrast_id] = [z_map]\n",
    "            else:\n",
    "                global_map[contrast_id] += [z_map]\n",
    "            nibabel.save(z_map, dir_path / f'{contrast_id}.nii')\n",
    "            "
   ]
  },
  {
   "cell_type": "code",
   "execution_count": 55,
   "id": "b8a3309e",
   "metadata": {},
   "outputs": [],
   "source": [
    "global_z_maps = {}\n",
    "for key, value in global_map.items():\n",
    "    data = nilearn.image.concat_imgs(value)\n",
    "    global_z_maps[key] = nilearn.image.mean_img(data)"
   ]
  },
  {
   "cell_type": "code",
   "execution_count": 56,
   "id": "d1134e02",
   "metadata": {},
   "outputs": [
    {
     "data": {
      "text/plain": [
       "dict_keys(['familiar - not familiar', 'familiar', 'not familiar'])"
      ]
     },
     "execution_count": 56,
     "metadata": {},
     "output_type": "execute_result"
    }
   ],
   "source": [
    "global_z_maps.keys()"
   ]
  },
  {
   "cell_type": "code",
   "execution_count": 57,
   "id": "2a76b00f",
   "metadata": {},
   "outputs": [
    {
     "name": "stdout",
     "output_type": "stream",
     "text": [
      "familiar - not familiar\n",
      "familiar\n",
      "not familiar\n"
     ]
    }
   ],
   "source": [
    "for key, value in global_map.items():\n",
    "    print(key)\n",
    "    nilearn.plotting.plot_stat_map(global_z_maps[key], threshold=0.25, title=key, output_file=f'{key}.png')\n",
    "    #plt.close()"
   ]
  },
  {
   "cell_type": "code",
   "execution_count": 62,
   "id": "6a39767d",
   "metadata": {},
   "outputs": [
    {
     "data": {
      "text/plain": [
       "{'familiar - not familiar': [<nibabel.nifti1.Nifti1Image at 0x7f31b6a2b250>,\n",
       "  <nibabel.nifti1.Nifti1Image at 0x7f31b60d2f40>,\n",
       "  <nibabel.nifti1.Nifti1Image at 0x7f31b5e144c0>,\n",
       "  <nibabel.nifti1.Nifti1Image at 0x7f31aa5b8a30>,\n",
       "  <nibabel.nifti1.Nifti1Image at 0x7f31b67a2940>,\n",
       "  <nibabel.nifti1.Nifti1Image at 0x7f31b66b1640>,\n",
       "  <nibabel.nifti1.Nifti1Image at 0x7f31b5564730>,\n",
       "  <nibabel.nifti1.Nifti1Image at 0x7f31b6905fa0>,\n",
       "  <nibabel.nifti1.Nifti1Image at 0x7f31b6700460>,\n",
       "  <nibabel.nifti1.Nifti1Image at 0x7f31b6a12940>,\n",
       "  <nibabel.nifti1.Nifti1Image at 0x7f31b4eb52e0>,\n",
       "  <nibabel.nifti1.Nifti1Image at 0x7f31b32bb0d0>,\n",
       "  <nibabel.nifti1.Nifti1Image at 0x7f31b3080be0>,\n",
       "  <nibabel.nifti1.Nifti1Image at 0x7f31b2c94580>,\n",
       "  <nibabel.nifti1.Nifti1Image at 0x7f31b288abe0>,\n",
       "  <nibabel.nifti1.Nifti1Image at 0x7f31b253adc0>,\n",
       "  <nibabel.nifti1.Nifti1Image at 0x7f31b2205d30>,\n",
       "  <nibabel.nifti1.Nifti1Image at 0x7f31b1fe9070>,\n",
       "  <nibabel.nifti1.Nifti1Image at 0x7f31b1d08e50>,\n",
       "  <nibabel.nifti1.Nifti1Image at 0x7f31b225ea60>,\n",
       "  <nibabel.nifti1.Nifti1Image at 0x7f31b18bbeb0>,\n",
       "  <nibabel.nifti1.Nifti1Image at 0x7f31b114a430>,\n",
       "  <nibabel.nifti1.Nifti1Image at 0x7f31b15038b0>],\n",
       " 'familiar': [<nibabel.nifti1.Nifti1Image at 0x7f31b6b7fac0>,\n",
       "  <nibabel.nifti1.Nifti1Image at 0x7f31b5e7da90>,\n",
       "  <nibabel.nifti1.Nifti1Image at 0x7f319b99a310>,\n",
       "  <nibabel.nifti1.Nifti1Image at 0x7f31b175a6d0>,\n",
       "  <nibabel.nifti1.Nifti1Image at 0x7f31b6addf40>,\n",
       "  <nibabel.nifti1.Nifti1Image at 0x7f31b66d6be0>,\n",
       "  <nibabel.nifti1.Nifti1Image at 0x7f31b6b24fa0>,\n",
       "  <nibabel.nifti1.Nifti1Image at 0x7f31b658e1c0>,\n",
       "  <nibabel.nifti1.Nifti1Image at 0x7f31b65fad90>,\n",
       "  <nibabel.nifti1.Nifti1Image at 0x7f31b6358ee0>,\n",
       "  <nibabel.nifti1.Nifti1Image at 0x7f31b4df78e0>,\n",
       "  <nibabel.nifti1.Nifti1Image at 0x7f31b327efa0>,\n",
       "  <nibabel.nifti1.Nifti1Image at 0x7f31b2fbdee0>,\n",
       "  <nibabel.nifti1.Nifti1Image at 0x7f31b2c872b0>,\n",
       "  <nibabel.nifti1.Nifti1Image at 0x7f31b2842fa0>,\n",
       "  <nibabel.nifti1.Nifti1Image at 0x7f31b249df40>,\n",
       "  <nibabel.nifti1.Nifti1Image at 0x7f31b1e1ceb0>,\n",
       "  <nibabel.nifti1.Nifti1Image at 0x7f31b1f1f910>,\n",
       "  <nibabel.nifti1.Nifti1Image at 0x7f31b1818fa0>,\n",
       "  <nibabel.nifti1.Nifti1Image at 0x7f31b1420dc0>,\n",
       "  <nibabel.nifti1.Nifti1Image at 0x7f31b14df7c0>,\n",
       "  <nibabel.nifti1.Nifti1Image at 0x7f31b11a77c0>,\n",
       "  <nibabel.nifti1.Nifti1Image at 0x7f31ab673220>],\n",
       " 'not familiar': [<nibabel.nifti1.Nifti1Image at 0x7f31b6204b50>,\n",
       "  <nibabel.nifti1.Nifti1Image at 0x7f31b5c1da90>,\n",
       "  <nibabel.nifti1.Nifti1Image at 0x7f31ab9194f0>,\n",
       "  <nibabel.nifti1.Nifti1Image at 0x7f31b69a3820>,\n",
       "  <nibabel.nifti1.Nifti1Image at 0x7f31b4fc71f0>,\n",
       "  <nibabel.nifti1.Nifti1Image at 0x7f31b5eb64c0>,\n",
       "  <nibabel.nifti1.Nifti1Image at 0x7f31b643f220>,\n",
       "  <nibabel.nifti1.Nifti1Image at 0x7f31b5834130>,\n",
       "  <nibabel.nifti1.Nifti1Image at 0x7f31b5043d90>,\n",
       "  <nibabel.nifti1.Nifti1Image at 0x7f31b5d878b0>,\n",
       "  <nibabel.nifti1.Nifti1Image at 0x7f31b4e1a7f0>,\n",
       "  <nibabel.nifti1.Nifti1Image at 0x7f31b31b7220>,\n",
       "  <nibabel.nifti1.Nifti1Image at 0x7f31b2e6a460>,\n",
       "  <nibabel.nifti1.Nifti1Image at 0x7f31b2ab4280>,\n",
       "  <nibabel.nifti1.Nifti1Image at 0x7f31b2783220>,\n",
       "  <nibabel.nifti1.Nifti1Image at 0x7f31b23fadc0>,\n",
       "  <nibabel.nifti1.Nifti1Image at 0x7f31b20bab20>,\n",
       "  <nibabel.nifti1.Nifti1Image at 0x7f31b1ec6640>,\n",
       "  <nibabel.nifti1.Nifti1Image at 0x7f31b1be7a90>,\n",
       "  <nibabel.nifti1.Nifti1Image at 0x7f31b1729880>,\n",
       "  <nibabel.nifti1.Nifti1Image at 0x7f31b137f7c0>,\n",
       "  <nibabel.nifti1.Nifti1Image at 0x7f31b1064370>,\n",
       "  <nibabel.nifti1.Nifti1Image at 0x7f31ab5a43a0>]}"
      ]
     },
     "execution_count": 62,
     "metadata": {},
     "output_type": "execute_result"
    }
   ],
   "source": [
    "global_map"
   ]
  },
  {
   "cell_type": "code",
   "execution_count": 103,
   "id": "3501e7b9",
   "metadata": {},
   "outputs": [
    {
     "name": "stderr",
     "output_type": "stream",
     "text": [
      "/home/cure/anaconda3/lib/python3.9/site-packages/sklearn/feature_selection/_univariate_selection.py:112: UserWarning: Features [   14    15    22   104   203   321   337   368   384   560   576   593\n",
      "   646   804   845  1332  1354  1377  1401  1694  1842  2010  2034  2086\n",
      "  2553  2600  2879  2908  3356  3391  3488  3668  3692  3846  4424  4779\n",
      "  4805  4831  5005  5572  5596 11209 12393 13071 13990 14052 14405 14429\n",
      " 15692 15749 16004 16056 16084 16105 16481 19121 19486 19504 19830 21203\n",
      " 21221 22923 22940 24682 24855 25709 26424 26525 26557 26591 27419 28282\n",
      " 28316 29878 29996 30030 31592 31707 31741 33282 33437 33471 33507 34399\n",
      " 34794 35021 35047 35062 36755 36767 36795 36796 38503 38515 38524 38525\n",
      " 38549 38565 39050 40263 40275 40284 40285 42030 42038 43748 43758 43932\n",
      " 43968 44511 44548 45711 47395 47550 48523 49119 49158 49350 49387 50130\n",
      " 50868 51108 51538 52032 52500 53512 54042 54914 54915 55875 56691 56717\n",
      " 56743 57131 57214 57418 58264 58314 58476 60471 60727 60738 61774 61818\n",
      " 61829 61830 61841 61842 61852] are constant.\n",
      "  warnings.warn(\"Features %s are constant.\" % constant_features_idx, UserWarning)\n",
      "/home/cure/anaconda3/lib/python3.9/site-packages/sklearn/feature_selection/_univariate_selection.py:113: RuntimeWarning: invalid value encountered in true_divide\n",
      "  f = msb / msw\n"
     ]
    },
    {
     "name": "stdout",
     "output_type": "stream",
     "text": [
      "Classification accuracy: 0.6522 / Chance level: 0.5\n"
     ]
    }
   ],
   "source": [
    "from nilearn.decoding import Decoder\n",
    "from sklearn.model_selection import LeaveOneGroupOut\n",
    "\n",
    "decoder = Decoder(\n",
    "    estimator=\"svc\",\n",
    "    mask = mask,\n",
    "    standardize=False,\n",
    "    screening_percentile=50,\n",
    "    cv=LeaveOneGroupOut(),\n",
    "    n_jobs=-1,\n",
    "    #scoring=\"roc_auc\",\n",
    ")\n",
    "\n",
    "svc_data = global_map['familiar'] + global_map['not familiar']\n",
    "conditions = [0] * len(global_map['familiar']) + [1] * len(global_map['not familiar'])\n",
    "session_label = np.tile(np.arange(23), 2)\n",
    "\n",
    "decoder.fit(svc_data, conditions, groups=session_label)\n",
    "\n",
    "# Return the corresponding mean prediction accuracy compared to chance\n",
    "\n",
    "classification_accuracy = np.mean(list(decoder.cv_scores_.values()))\n",
    "chance_level = 1.0 / len(np.unique(conditions))\n",
    "print(\n",
    "    \"Classification accuracy: {:.4f} / Chance level: {}\".format(\n",
    "        classification_accuracy, chance_level\n",
    "    )\n",
    ")"
   ]
  }
 ],
 "metadata": {
  "kernelspec": {
   "display_name": "Python 3",
   "language": "python",
   "name": "python3"
  },
  "language_info": {
   "codemirror_mode": {
    "name": "ipython",
    "version": 3
   },
   "file_extension": ".py",
   "mimetype": "text/x-python",
   "name": "python",
   "nbconvert_exporter": "python",
   "pygments_lexer": "ipython3",
   "version": "3.9.12"
  }
 },
 "nbformat": 4,
 "nbformat_minor": 5
}
